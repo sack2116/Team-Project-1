{
 "cells": [
  {
   "cell_type": "code",
   "execution_count": 1,
   "id": "a2a3eb83-87e8-4297-98f7-9349f90d956a",
   "metadata": {},
   "outputs": [],
   "source": [
    "import pandas as pd\n",
    "from pathlib import Path"
   ]
  },
  {
   "cell_type": "code",
   "execution_count": 2,
   "id": "f925c9fd-03dc-46ac-9009-ba21552c5cab",
   "metadata": {},
   "outputs": [],
   "source": [
    "# Import data\n",
    "interest_rate = pd.read_csv('Resources/MORTGAGE30US.csv', parse_dates=['DATE'], index_col='DATE')\n",
    "rent_data = pd.read_csv('Resources/Metro_zori_uc_sfrcondomfr_sm_month.csv',)\n",
    "total_trans_value = pd.read_csv('Resources/Metro_total_transaction_value_uc_sfr_month.csv', index_col='RegionID')\n",
    "sales_count = pd.read_csv('Resources/Metro_sales_count_now_uc_sfrcondo_month.csv', index_col='RegionID')\n",
    "median_sale = pd.read_csv('Resources/Metro_median_sale_price_uc_sfr_month.csv', index_col='RegionID')\n",
    "market_temp_index = pd.read_csv('Resources/Metro_market_temp_index_uc_sfrcondo_month.csv', index_col='RegionID')\n"
   ]
  },
  {
   "cell_type": "code",
   "execution_count": 3,
   "id": "a16a8826-6d2f-4907-9bfe-1b32fbcfe722",
   "metadata": {},
   "outputs": [],
   "source": [
    "us_rent_data = rent_data[rent_data['RegionName'] == 'United States']\n",
    "us_total_trans_value = total_trans_value[total_trans_value['RegionName'] == 'United States'].loc[:, '2015-01-31':'2024-07-31']\n",
    "us_sales_count = sales_count[sales_count['RegionName'] == 'United States'].loc[:, '2015-01-31':'2024-07-31']\n",
    "us_median_sale = median_sale[median_sale['RegionName'] == 'United States'].loc[:, '2015-01-31':'2024-07-31']\n",
    "us_market_temp_index = market_temp_index[market_temp_index['RegionName'] == 'United States']"
   ]
  },
  {
   "cell_type": "code",
   "execution_count": 4,
   "id": "5ef5302e-eb7d-4491-b5ba-e87e177d7578",
   "metadata": {},
   "outputs": [
    {
     "data": {
      "text/html": [
       "<div>\n",
       "<style scoped>\n",
       "    .dataframe tbody tr th:only-of-type {\n",
       "        vertical-align: middle;\n",
       "    }\n",
       "\n",
       "    .dataframe tbody tr th {\n",
       "        vertical-align: top;\n",
       "    }\n",
       "\n",
       "    .dataframe thead th {\n",
       "        text-align: right;\n",
       "    }\n",
       "</style>\n",
       "<table border=\"1\" class=\"dataframe\">\n",
       "  <thead>\n",
       "    <tr style=\"text-align: right;\">\n",
       "      <th></th>\n",
       "      <th>RegionID</th>\n",
       "      <th>SizeRank</th>\n",
       "      <th>RegionName</th>\n",
       "      <th>RegionType</th>\n",
       "      <th>StateName</th>\n",
       "      <th>2015-01-31</th>\n",
       "      <th>2015-02-28</th>\n",
       "      <th>2015-03-31</th>\n",
       "      <th>2015-04-30</th>\n",
       "      <th>2015-05-31</th>\n",
       "      <th>...</th>\n",
       "      <th>2023-11-30</th>\n",
       "      <th>2023-12-31</th>\n",
       "      <th>2024-01-31</th>\n",
       "      <th>2024-02-29</th>\n",
       "      <th>2024-03-31</th>\n",
       "      <th>2024-04-30</th>\n",
       "      <th>2024-05-31</th>\n",
       "      <th>2024-06-30</th>\n",
       "      <th>2024-07-31</th>\n",
       "      <th>2024-08-31</th>\n",
       "    </tr>\n",
       "  </thead>\n",
       "  <tbody>\n",
       "    <tr>\n",
       "      <th>0</th>\n",
       "      <td>102001</td>\n",
       "      <td>0</td>\n",
       "      <td>United States</td>\n",
       "      <td>country</td>\n",
       "      <td>NaN</td>\n",
       "      <td>1251.086247</td>\n",
       "      <td>1257.873109</td>\n",
       "      <td>1267.201476</td>\n",
       "      <td>1276.622525</td>\n",
       "      <td>1286.231877</td>\n",
       "      <td>...</td>\n",
       "      <td>1994.372168</td>\n",
       "      <td>1992.185798</td>\n",
       "      <td>1995.312138</td>\n",
       "      <td>2003.473727</td>\n",
       "      <td>2014.90322</td>\n",
       "      <td>2026.72233</td>\n",
       "      <td>2038.685309</td>\n",
       "      <td>2049.528917</td>\n",
       "      <td>2058.255158</td>\n",
       "      <td>2062.847879</td>\n",
       "    </tr>\n",
       "  </tbody>\n",
       "</table>\n",
       "<p>1 rows × 121 columns</p>\n",
       "</div>"
      ],
      "text/plain": [
       "   RegionID  SizeRank     RegionName RegionType StateName   2015-01-31  \\\n",
       "0    102001         0  United States    country       NaN  1251.086247   \n",
       "\n",
       "    2015-02-28   2015-03-31   2015-04-30   2015-05-31  ...   2023-11-30  \\\n",
       "0  1257.873109  1267.201476  1276.622525  1286.231877  ...  1994.372168   \n",
       "\n",
       "    2023-12-31   2024-01-31   2024-02-29  2024-03-31  2024-04-30   2024-05-31  \\\n",
       "0  1992.185798  1995.312138  2003.473727  2014.90322  2026.72233  2038.685309   \n",
       "\n",
       "    2024-06-30   2024-07-31   2024-08-31  \n",
       "0  2049.528917  2058.255158  2062.847879  \n",
       "\n",
       "[1 rows x 121 columns]"
      ]
     },
     "execution_count": 4,
     "metadata": {},
     "output_type": "execute_result"
    }
   ],
   "source": [
    "us_rent_data.head()"
   ]
  },
  {
   "cell_type": "code",
   "execution_count": null,
   "id": "a0a3917c-d561-4948-b02e-686c714e6734",
   "metadata": {},
   "outputs": [],
   "source": [
    "#Interest Rate Clean-Up\n",
    "interest_rate.index = pd.to_datetime(interest_rate.index, format='%Y-%m-%d', errors='coerce')\n",
    "filtered_interest_rate = interest_rate.loc['2015-01-01':'2024-12-31'].resample(\"M\").mean()\n",
    "#filtered_interest_rate = interest_rate.resample(\"M\").mean()\n",
    "#TEST\n",
    "filtered_interest_rate"
   ]
  },
  {
   "cell_type": "code",
   "execution_count": 5,
   "id": "ba6a33ed-fe36-487a-87b3-49cdd2c07b0e",
   "metadata": {},
   "outputs": [],
   "source": [
    "us_rent_data_transposed = us_rent_data.drop(['RegionID', 'SizeRank', 'RegionType', 'StateName', 'RegionName'], axis=1, errors='ignore').T\n",
    "us_total_trans_value_transposed = us_total_trans_value.drop(['RegionID',], axis=1, errors='ignore').T\n",
    "us_sales_count_transposed = us_sales_count.drop(['RegionID'], axis=1, errors='ignore').T\n",
    "us_median_sale_transposed = us_median_sale.drop(['RegionID'], axis=1, errors='ignore').T\n",
    "us_market_temp_index_transposed = us_market_temp_index.drop(['RegionID', 'SizeRank', 'RegionType', 'StateName', 'RegionName'], axis=1, errors='ignore').T"
   ]
  },
  {
   "cell_type": "code",
   "execution_count": 6,
   "id": "539859f5-1fad-4eaa-ad6b-347f6f9f0b18",
   "metadata": {},
   "outputs": [
    {
     "data": {
      "text/plain": [
       "Index([0], dtype='int64')"
      ]
     },
     "execution_count": 6,
     "metadata": {},
     "output_type": "execute_result"
    }
   ],
   "source": [
    "#us_rent_data_renamed.index.name=None\n",
    "us_rent_data_transposed.columns"
   ]
  },
  {
   "cell_type": "code",
   "execution_count": 9,
   "id": "510fafd3-1cc4-41af-985f-5bca75bca113",
   "metadata": {},
   "outputs": [
    {
     "data": {
      "text/plain": [
       "Index([0], dtype='int64')"
      ]
     },
     "execution_count": 9,
     "metadata": {},
     "output_type": "execute_result"
    }
   ],
   "source": [
    "us_rent_data_transposed.columns"
   ]
  },
  {
   "cell_type": "code",
   "execution_count": 19,
   "id": "fb38fc41-38a0-4719-b3c1-98c831165f73",
   "metadata": {},
   "outputs": [
    {
     "data": {
      "text/html": [
       "<div>\n",
       "<style scoped>\n",
       "    .dataframe tbody tr th:only-of-type {\n",
       "        vertical-align: middle;\n",
       "    }\n",
       "\n",
       "    .dataframe tbody tr th {\n",
       "        vertical-align: top;\n",
       "    }\n",
       "\n",
       "    .dataframe thead th {\n",
       "        text-align: right;\n",
       "    }\n",
       "</style>\n",
       "<table border=\"1\" class=\"dataframe\">\n",
       "  <thead>\n",
       "    <tr style=\"text-align: right;\">\n",
       "      <th>Date</th>\n",
       "      <th>Value</th>\n",
       "    </tr>\n",
       "  </thead>\n",
       "  <tbody>\n",
       "    <tr>\n",
       "      <th>2015-01-31</th>\n",
       "      <td>1251.086247</td>\n",
       "    </tr>\n",
       "    <tr>\n",
       "      <th>2015-02-28</th>\n",
       "      <td>1257.873109</td>\n",
       "    </tr>\n",
       "    <tr>\n",
       "      <th>2015-03-31</th>\n",
       "      <td>1267.201476</td>\n",
       "    </tr>\n",
       "    <tr>\n",
       "      <th>2015-04-30</th>\n",
       "      <td>1276.622525</td>\n",
       "    </tr>\n",
       "    <tr>\n",
       "      <th>2015-05-31</th>\n",
       "      <td>1286.231877</td>\n",
       "    </tr>\n",
       "    <tr>\n",
       "      <th>...</th>\n",
       "      <td>...</td>\n",
       "    </tr>\n",
       "    <tr>\n",
       "      <th>2024-04-30</th>\n",
       "      <td>2026.722330</td>\n",
       "    </tr>\n",
       "    <tr>\n",
       "      <th>2024-05-31</th>\n",
       "      <td>2038.685309</td>\n",
       "    </tr>\n",
       "    <tr>\n",
       "      <th>2024-06-30</th>\n",
       "      <td>2049.528917</td>\n",
       "    </tr>\n",
       "    <tr>\n",
       "      <th>2024-07-31</th>\n",
       "      <td>2058.255158</td>\n",
       "    </tr>\n",
       "    <tr>\n",
       "      <th>2024-08-31</th>\n",
       "      <td>2062.847879</td>\n",
       "    </tr>\n",
       "  </tbody>\n",
       "</table>\n",
       "<p>116 rows × 1 columns</p>\n",
       "</div>"
      ],
      "text/plain": [
       "Date              Value\n",
       "2015-01-31  1251.086247\n",
       "2015-02-28  1257.873109\n",
       "2015-03-31  1267.201476\n",
       "2015-04-30  1276.622525\n",
       "2015-05-31  1286.231877\n",
       "...                 ...\n",
       "2024-04-30  2026.722330\n",
       "2024-05-31  2038.685309\n",
       "2024-06-30  2049.528917\n",
       "2024-07-31  2058.255158\n",
       "2024-08-31  2062.847879\n",
       "\n",
       "[116 rows x 1 columns]"
      ]
     },
     "execution_count": 19,
     "metadata": {},
     "output_type": "execute_result"
    }
   ],
   "source": [
    "\n",
    "us_rent_data_cleaned.rename(columns={us_rent_data_cleaned.columns[0]: \"Value\"}, inplace=True)\n",
    "us_rent_data_cleaned"
   ]
  },
  {
   "cell_type": "code",
   "execution_count": null,
   "id": "f53683ed-4c2d-49ae-bb9a-a599673cb2c3",
   "metadata": {},
   "outputs": [],
   "source": [
    "us_rent_data_cleaned.reset_index()"
   ]
  },
  {
   "cell_type": "code",
   "execution_count": null,
   "id": "58ff091c-ed26-4d55-96d0-489ada7915a7",
   "metadata": {},
   "outputs": [],
   "source": [
    "us_rent_data_renamed = us_rent_data_cleaned.rename(columns={\"102001\": \"Rent Data\"})\n",
    "#us_total_trans_value_renamed = us_total_trans_value_transposed.rename(columns={\"RegionID\": \"DATE\", \"102001\": \"Total Trans Value\"})\n",
    "#us_sales_count_renamed = us_sales_count_transposed.rename(columns={\"RegionID\": \"DATE\", \"102001\": \"Sales Count\"}) \n",
    "#us_median_sale_renamed = us_median_sale_transposed.rename(columns={\"RegionID\": \"DATE\", \"102001\": \"Median Sale\"})\n",
    "#us_market_temp_index_renamed = us_market_temp_index_transposed.rename(columns={\"RegionID\": \"DATE\", \"102001\": \"Market Temp Index\"})"
   ]
  },
  {
   "cell_type": "code",
   "execution_count": null,
   "id": "b8354d1b-5a93-4789-a40b-a7d1b6e21f97",
   "metadata": {},
   "outputs": [],
   "source": [
    "#us_rent_data.reset_index()\n",
    "#us_total_trans_value.reset_index()\n",
    "#us_sales_count.reset_index() \n",
    "#us_median_sale.reset_index()\n",
    "#us_market_temp_index.reset_index()\n",
    "#filtered_interest_rate.reset_index()"
   ]
  },
  {
   "cell_type": "code",
   "execution_count": null,
   "id": "ac92d7fe-7397-4976-ab7d-0aff8569531f",
   "metadata": {},
   "outputs": [],
   "source": [
    "#filter us median sales data from 2015-01-31':'2024-07-31\n",
    "# us_median_sale = us_median_sale.loc[:, '2015-01-31':'2024-07-31']"
   ]
  },
  {
   "cell_type": "code",
   "execution_count": null,
   "id": "2ad9e7bc-1eac-427a-b888-2b83343ed7d7",
   "metadata": {},
   "outputs": [],
   "source": [
    "us_rent_data_renamed "
   ]
  },
  {
   "cell_type": "code",
   "execution_count": null,
   "id": "318c59b8-7f2e-4753-83ef-3147f7801722",
   "metadata": {},
   "outputs": [],
   "source": [
    "#us_rent_data_cleaned = us_rent_data_cleaned.reset_index()  # Move index to a column\n",
    "us_rent_data_cleaned = us_rent_data_cleaned.rename(columns={\"102001\": \"Rent Data\"})\n",
    "us_rent_data_cleaned"
   ]
  },
  {
   "cell_type": "code",
   "execution_count": null,
   "id": "6127786e-6fc7-480c-85b0-cbde65f7c5e6",
   "metadata": {},
   "outputs": [],
   "source": [
    "interest_rate.plot()"
   ]
  },
  {
   "cell_type": "code",
   "execution_count": null,
   "id": "91965210-ca34-43dc-af09-95e9af3755c5",
   "metadata": {},
   "outputs": [],
   "source": []
  },
  {
   "cell_type": "code",
   "execution_count": null,
   "id": "aeadbadb-96ef-444a-8043-b87d06ea2054",
   "metadata": {},
   "outputs": [],
   "source": []
  },
  {
   "cell_type": "code",
   "execution_count": null,
   "id": "1467e162-6011-4169-8474-5795f323045a",
   "metadata": {},
   "outputs": [],
   "source": []
  },
  {
   "cell_type": "code",
   "execution_count": null,
   "id": "770b4f88-bd6b-4844-9f83-50b94dcce69c",
   "metadata": {},
   "outputs": [],
   "source": []
  },
  {
   "cell_type": "code",
   "execution_count": null,
   "id": "4a74cb9f-6d9f-449d-97c5-34627ce640b6",
   "metadata": {},
   "outputs": [],
   "source": []
  },
  {
   "cell_type": "code",
   "execution_count": null,
   "id": "e1c3ebad-d45c-42b5-b30c-070c98ba8e1c",
   "metadata": {},
   "outputs": [],
   "source": []
  },
  {
   "cell_type": "code",
   "execution_count": null,
   "id": "a4515d2a-e8a0-4df1-a6de-22c8a844255f",
   "metadata": {},
   "outputs": [],
   "source": []
  },
  {
   "cell_type": "code",
   "execution_count": null,
   "id": "b50272b3-6e12-45b0-9464-778ad5762dd3",
   "metadata": {},
   "outputs": [],
   "source": []
  },
  {
   "cell_type": "code",
   "execution_count": null,
   "id": "aaa05d92-47c8-4e61-be78-9219f66b6f5c",
   "metadata": {},
   "outputs": [],
   "source": [
    "#Cleaning data \n",
    "#Date Range: 2014-2024\n",
    "# Sectionize data for Global in US National data as our Focus\n",
    "# branch out to Regional Data to get more granular picture\n",
    "# possibly sort the data to yearly instead of monthly.\n",
    "#Convert interestrate data from weekly to monthly - filter out data from 2015 to current\n",
    "\n",
    "\n",
    "\n"
   ]
  },
  {
   "cell_type": "code",
   "execution_count": null,
   "id": "1d18a05c-b028-4d20-99e4-55ee6d16c6c2",
   "metadata": {},
   "outputs": [],
   "source": []
  }
 ],
 "metadata": {
  "kernelspec": {
   "display_name": "Python 3 (ipykernel)",
   "language": "python",
   "name": "python3"
  },
  "language_info": {
   "codemirror_mode": {
    "name": "ipython",
    "version": 3
   },
   "file_extension": ".py",
   "mimetype": "text/x-python",
   "name": "python",
   "nbconvert_exporter": "python",
   "pygments_lexer": "ipython3",
   "version": "3.11.7"
  }
 },
 "nbformat": 4,
 "nbformat_minor": 5
}
