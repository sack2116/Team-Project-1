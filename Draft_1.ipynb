{
 "cells": [
  {
   "cell_type": "code",
   "execution_count": 1,
   "id": "a2a3eb83-87e8-4297-98f7-9349f90d956a",
   "metadata": {},
   "outputs": [],
   "source": [
    "import pandas as pd\n",
    "from pathlib import Path"
   ]
  },
  {
   "cell_type": "code",
   "execution_count": 2,
   "id": "f925c9fd-03dc-46ac-9009-ba21552c5cab",
   "metadata": {},
   "outputs": [],
   "source": [
    "# Import data\n",
    "interest_rate = pd.read_csv('Resources/MORTGAGE30US.csv', parse_dates=['DATE'], index_col='DATE')\n",
    "rent_data = pd.read_csv('Resources/Metro_zori_uc_sfrcondomfr_sm_month.csv', index_col='RegionID')\n",
    "total_trans_value = pd.read_csv('Resources/Metro_total_transaction_value_uc_sfr_month.csv', index_col='RegionID')\n",
    "sales_count = pd.read_csv('Resources/Metro_sales_count_now_uc_sfrcondo_month.csv', index_col='RegionID')\n",
    "median_sale = pd.read_csv('Resources/Metro_median_sale_price_uc_sfr_month.csv', index_col='RegionID')\n",
    "market_temp_index = pd.read_csv('Resources/Metro_market_temp_index_uc_sfrcondo_month.csv', index_col='RegionID')\n"
   ]
  },
  {
   "cell_type": "code",
   "execution_count": 8,
   "id": "a16a8826-6d2f-4907-9bfe-1b32fbcfe722",
   "metadata": {},
   "outputs": [],
   "source": [
    "us_rent_data = rent_data[rent_data['RegionName'] == 'United States']\n",
    "us_total_trans_value = total_trans_value[total_trans_value['RegionName'] == 'United States'].loc[:, '2015-01-31':'2024-07-31']\n",
    "us_sales_count = sales_count[sales_count['RegionName'] == 'United States'].loc[:, '2015-01-31':'2024-07-31']\n",
    "us_median_sale = median_sale[median_sale['RegionName'] == 'United States'].loc[:, '2015-01-31':'2024-07-31']\n",
    "us_market_temp_index = market_temp_index[market_temp_index['RegionName'] == 'United States']"
   ]
  },
  {
   "cell_type": "code",
   "execution_count": null,
   "id": "a0a3917c-d561-4948-b02e-686c714e6734",
   "metadata": {},
   "outputs": [],
   "source": [
    "## interest rate"
   ]
  },
  {
   "cell_type": "code",
   "execution_count": 4,
   "id": "ba6a33ed-fe36-487a-87b3-49cdd2c07b0e",
   "metadata": {},
   "outputs": [
    {
     "data": {
      "text/html": [
       "<div>\n",
       "<style scoped>\n",
       "    .dataframe tbody tr th:only-of-type {\n",
       "        vertical-align: middle;\n",
       "    }\n",
       "\n",
       "    .dataframe tbody tr th {\n",
       "        vertical-align: top;\n",
       "    }\n",
       "\n",
       "    .dataframe thead th {\n",
       "        text-align: right;\n",
       "    }\n",
       "</style>\n",
       "<table border=\"1\" class=\"dataframe\">\n",
       "  <thead>\n",
       "    <tr style=\"text-align: right;\">\n",
       "      <th></th>\n",
       "      <th>2015-01-31</th>\n",
       "      <th>2015-02-28</th>\n",
       "      <th>2015-03-31</th>\n",
       "      <th>2015-04-30</th>\n",
       "      <th>2015-05-31</th>\n",
       "      <th>2015-06-30</th>\n",
       "      <th>2015-07-31</th>\n",
       "      <th>2015-08-31</th>\n",
       "      <th>2015-09-30</th>\n",
       "      <th>2015-10-31</th>\n",
       "      <th>...</th>\n",
       "      <th>2023-10-31</th>\n",
       "      <th>2023-11-30</th>\n",
       "      <th>2023-12-31</th>\n",
       "      <th>2024-01-31</th>\n",
       "      <th>2024-02-29</th>\n",
       "      <th>2024-03-31</th>\n",
       "      <th>2024-04-30</th>\n",
       "      <th>2024-05-31</th>\n",
       "      <th>2024-06-30</th>\n",
       "      <th>2024-07-31</th>\n",
       "    </tr>\n",
       "    <tr>\n",
       "      <th>RegionID</th>\n",
       "      <th></th>\n",
       "      <th></th>\n",
       "      <th></th>\n",
       "      <th></th>\n",
       "      <th></th>\n",
       "      <th></th>\n",
       "      <th></th>\n",
       "      <th></th>\n",
       "      <th></th>\n",
       "      <th></th>\n",
       "      <th></th>\n",
       "      <th></th>\n",
       "      <th></th>\n",
       "      <th></th>\n",
       "      <th></th>\n",
       "      <th></th>\n",
       "      <th></th>\n",
       "      <th></th>\n",
       "      <th></th>\n",
       "      <th></th>\n",
       "      <th></th>\n",
       "    </tr>\n",
       "  </thead>\n",
       "  <tbody>\n",
       "    <tr>\n",
       "      <th>102001</th>\n",
       "      <td>173000.0</td>\n",
       "      <td>175000.0</td>\n",
       "      <td>184400.0</td>\n",
       "      <td>189900.0</td>\n",
       "      <td>198000.0</td>\n",
       "      <td>205000.0</td>\n",
       "      <td>201000.0</td>\n",
       "      <td>197500.0</td>\n",
       "      <td>191900.0</td>\n",
       "      <td>188900.0</td>\n",
       "      <td>...</td>\n",
       "      <td>334000.0</td>\n",
       "      <td>329000.0</td>\n",
       "      <td>325000.0</td>\n",
       "      <td>325000.0</td>\n",
       "      <td>338000.0</td>\n",
       "      <td>349922.0</td>\n",
       "      <td>356000.0</td>\n",
       "      <td>366000.0</td>\n",
       "      <td>375000.0</td>\n",
       "      <td>370000.0</td>\n",
       "    </tr>\n",
       "  </tbody>\n",
       "</table>\n",
       "<p>1 rows × 115 columns</p>\n",
       "</div>"
      ],
      "text/plain": [
       "          2015-01-31  2015-02-28  2015-03-31  2015-04-30  2015-05-31  \\\n",
       "RegionID                                                               \n",
       "102001      173000.0    175000.0    184400.0    189900.0    198000.0   \n",
       "\n",
       "          2015-06-30  2015-07-31  2015-08-31  2015-09-30  2015-10-31  ...  \\\n",
       "RegionID                                                              ...   \n",
       "102001      205000.0    201000.0    197500.0    191900.0    188900.0  ...   \n",
       "\n",
       "          2023-10-31  2023-11-30  2023-12-31  2024-01-31  2024-02-29  \\\n",
       "RegionID                                                               \n",
       "102001      334000.0    329000.0    325000.0    325000.0    338000.0   \n",
       "\n",
       "          2024-03-31  2024-04-30  2024-05-31  2024-06-30  2024-07-31  \n",
       "RegionID                                                              \n",
       "102001      349922.0    356000.0    366000.0    375000.0    370000.0  \n",
       "\n",
       "[1 rows x 115 columns]"
      ]
     },
     "execution_count": 4,
     "metadata": {},
     "output_type": "execute_result"
    }
   ],
   "source": [
    "us_median_sale.head()"
   ]
  },
  {
   "cell_type": "code",
   "execution_count": 10,
   "id": "b8354d1b-5a93-4789-a40b-a7d1b6e21f97",
   "metadata": {},
   "outputs": [
    {
     "data": {
      "text/html": [
       "<div>\n",
       "<style scoped>\n",
       "    .dataframe tbody tr th:only-of-type {\n",
       "        vertical-align: middle;\n",
       "    }\n",
       "\n",
       "    .dataframe tbody tr th {\n",
       "        vertical-align: top;\n",
       "    }\n",
       "\n",
       "    .dataframe thead th {\n",
       "        text-align: right;\n",
       "    }\n",
       "</style>\n",
       "<table border=\"1\" class=\"dataframe\">\n",
       "  <thead>\n",
       "    <tr style=\"text-align: right;\">\n",
       "      <th></th>\n",
       "      <th>MORTGAGE30US</th>\n",
       "    </tr>\n",
       "    <tr>\n",
       "      <th>DATE</th>\n",
       "      <th></th>\n",
       "    </tr>\n",
       "  </thead>\n",
       "  <tbody>\n",
       "    <tr>\n",
       "      <th>1971-04-02</th>\n",
       "      <td>7.33</td>\n",
       "    </tr>\n",
       "    <tr>\n",
       "      <th>1971-04-09</th>\n",
       "      <td>7.31</td>\n",
       "    </tr>\n",
       "    <tr>\n",
       "      <th>1971-04-16</th>\n",
       "      <td>7.31</td>\n",
       "    </tr>\n",
       "    <tr>\n",
       "      <th>1971-04-23</th>\n",
       "      <td>7.31</td>\n",
       "    </tr>\n",
       "    <tr>\n",
       "      <th>1971-04-30</th>\n",
       "      <td>7.29</td>\n",
       "    </tr>\n",
       "  </tbody>\n",
       "</table>\n",
       "</div>"
      ],
      "text/plain": [
       "            MORTGAGE30US\n",
       "DATE                    \n",
       "1971-04-02          7.33\n",
       "1971-04-09          7.31\n",
       "1971-04-16          7.31\n",
       "1971-04-23          7.31\n",
       "1971-04-30          7.29"
      ]
     },
     "execution_count": 10,
     "metadata": {},
     "output_type": "execute_result"
    }
   ],
   "source": [
    "interest_rate.head()"
   ]
  },
  {
   "cell_type": "code",
   "execution_count": null,
   "id": "ac92d7fe-7397-4976-ab7d-0aff8569531f",
   "metadata": {},
   "outputs": [],
   "source": [
    "#filter us median sales data from 2015-01-31':'2024-07-31\n",
    "# us_median_sale = us_median_sale.loc[:, '2015-01-31':'2024-07-31']"
   ]
  },
  {
   "cell_type": "code",
   "execution_count": null,
   "id": "c58e7146-7188-43a0-b398-7f32e4ae9dc0",
   "metadata": {},
   "outputs": [],
   "source": [
    "us_median_sale.head()"
   ]
  },
  {
   "cell_type": "code",
   "execution_count": null,
   "id": "6127786e-6fc7-480c-85b0-cbde65f7c5e6",
   "metadata": {},
   "outputs": [],
   "source": [
    "interest_rate.plot()"
   ]
  },
  {
   "cell_type": "code",
   "execution_count": null,
   "id": "91965210-ca34-43dc-af09-95e9af3755c5",
   "metadata": {},
   "outputs": [],
   "source": []
  },
  {
   "cell_type": "code",
   "execution_count": null,
   "id": "aeadbadb-96ef-444a-8043-b87d06ea2054",
   "metadata": {},
   "outputs": [],
   "source": []
  },
  {
   "cell_type": "code",
   "execution_count": null,
   "id": "1467e162-6011-4169-8474-5795f323045a",
   "metadata": {},
   "outputs": [],
   "source": []
  },
  {
   "cell_type": "code",
   "execution_count": null,
   "id": "770b4f88-bd6b-4844-9f83-50b94dcce69c",
   "metadata": {},
   "outputs": [],
   "source": []
  },
  {
   "cell_type": "code",
   "execution_count": null,
   "id": "4a74cb9f-6d9f-449d-97c5-34627ce640b6",
   "metadata": {},
   "outputs": [],
   "source": []
  },
  {
   "cell_type": "code",
   "execution_count": null,
   "id": "e1c3ebad-d45c-42b5-b30c-070c98ba8e1c",
   "metadata": {},
   "outputs": [],
   "source": []
  },
  {
   "cell_type": "code",
   "execution_count": null,
   "id": "a4515d2a-e8a0-4df1-a6de-22c8a844255f",
   "metadata": {},
   "outputs": [],
   "source": []
  },
  {
   "cell_type": "code",
   "execution_count": null,
   "id": "b50272b3-6e12-45b0-9464-778ad5762dd3",
   "metadata": {},
   "outputs": [],
   "source": []
  },
  {
   "cell_type": "code",
   "execution_count": null,
   "id": "aaa05d92-47c8-4e61-be78-9219f66b6f5c",
   "metadata": {},
   "outputs": [],
   "source": [
    "#Cleaning data \n",
    "#Date Range: 2014-2024\n",
    "# Sectionize data for Global in US National data as our Focus\n",
    "# branch out to Regional Data to get more granular picture\n",
    "# possibly sort the data to yearly instead of monthly.\n",
    "#Convert interestrate data from weekly to monthly - filter out data from 2015 to current\n",
    "\n",
    "\n",
    "\n"
   ]
  },
  {
   "cell_type": "code",
   "execution_count": null,
   "id": "1d18a05c-b028-4d20-99e4-55ee6d16c6c2",
   "metadata": {},
   "outputs": [],
   "source": []
  }
 ],
 "metadata": {
  "kernelspec": {
   "display_name": "Python 3 (ipykernel)",
   "language": "python",
   "name": "python3"
  },
  "language_info": {
   "codemirror_mode": {
    "name": "ipython",
    "version": 3
   },
   "file_extension": ".py",
   "mimetype": "text/x-python",
   "name": "python",
   "nbconvert_exporter": "python",
   "pygments_lexer": "ipython3",
   "version": "3.11.7"
  }
 },
 "nbformat": 4,
 "nbformat_minor": 5
}
