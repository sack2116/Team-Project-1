{
 "cells": [
  {
   "cell_type": "code",
   "execution_count": null,
   "id": "a2a3eb83-87e8-4297-98f7-9349f90d956a",
   "metadata": {},
   "outputs": [],
   "source": [
    "import pandas as pd\n",
    "from pathlib import Path"
   ]
  },
  {
   "cell_type": "code",
   "execution_count": null,
   "id": "f925c9fd-03dc-46ac-9009-ba21552c5cab",
   "metadata": {},
   "outputs": [],
   "source": [
    "# Import data\n",
    "interest_rate = pd.read_csv('Resources/MORTGAGE30US.csv', parse_dates=['DATE'], index_col='DATE')\n",
    "rent_data = pd.read_csv('Resources/Metro_zori_uc_sfrcondomfr_sm_month.csv', index_col='RegionID')\n",
    "total_trans_value = pd.read_csv('Resources/Metro_total_transaction_value_uc_sfr_month.csv', index_col='RegionID')\n",
    "sales_count = pd.read_csv('Resources/Metro_sales_count_now_uc_sfrcondo_month.csv', index_col='RegionID')\n",
    "median_sale = pd.read_csv('Resources/Metro_median_sale_price_uc_sfr_month.csv', index_col='RegionID')\n",
    "market_temp_index = pd.read_csv('Resources/Metro_market_temp_index_uc_sfrcondo_month.csv', index_col='RegionID')\n"
   ]
  },
  {
   "cell_type": "code",
   "execution_count": null,
   "id": "05f06ed5-31ea-4679-a9e3-87a40ad560e8",
   "metadata": {},
   "outputs": [],
   "source": [
    "rent_data.head()"
   ]
  },
  {
   "cell_type": "code",
   "execution_count": null,
   "id": "6e34225a-325b-49bf-8a9d-775cbef12da3",
   "metadata": {},
   "outputs": [],
   "source": [
    "pd.melt(rent_data.reset_index(),id_vars=['RegionID', 'SizeRank', 'RegionName',\t'RegionType',\t'StateName'])"
   ]
  },
  {
   "cell_type": "code",
   "execution_count": null,
   "id": "a16a8826-6d2f-4907-9bfe-1b32fbcfe722",
   "metadata": {},
   "outputs": [],
   "source": [
    "us_rent_data = rent_data[rent_data['RegionName'] == 'United States']\n",
    "us_total_trans_value = total_trans_value[total_trans_value['RegionName'] == 'United States'].loc[:, '2015-01-31':'2024-07-31']\n",
    "us_sales_count = sales_count[sales_count['RegionName'] == 'United States'].loc[:, '2015-01-31':'2024-07-31']\n",
    "us_median_sale = median_sale[median_sale['RegionName'] == 'United States'].loc[:, '2015-01-31':'2024-07-31']\n",
    "us_market_temp_index = market_temp_index[market_temp_index['RegionName'] == 'United States']"
   ]
  },
  {
   "cell_type": "code",
   "execution_count": null,
   "id": "a0a3917c-d561-4948-b02e-686c714e6734",
   "metadata": {},
   "outputs": [],
   "source": [
    "#Interest Rate Clean-Up\n",
    "interest_rate.index = pd.to_datetime(interest_rate.index, format='%Y-%m-%d', errors='coerce')\n",
    "filtered_interest_rate = interest_rate.loc['2015-01-01':'2024-12-31'].resample(\"ME\").mean()\n",
    "#filtered_interest_rate = interest_rate.resample(\"M\").mean()\n",
    "#TEST\n",
    "filtered_interest_rate"
   ]
  },
  {
   "cell_type": "code",
   "execution_count": null,
   "id": "53041e02-ace9-469f-95ea-db8f8e8007de",
   "metadata": {},
   "outputs": [],
   "source": [
    "us_rent_data.head()"
   ]
  },
  {
   "cell_type": "code",
   "execution_count": null,
   "id": "d6a31f16-5dbf-44f6-a4ea-50f99ac4ecda",
   "metadata": {},
   "outputs": [],
   "source": [
    "us_rent_data.melt()"
   ]
  },
  {
   "cell_type": "code",
   "execution_count": null,
   "id": "1e2e8b95-b410-4b60-9dd4-653d5c47e57c",
   "metadata": {},
   "outputs": [],
   "source": [
    "us_total_trans_value.head()"
   ]
  },
  {
   "cell_type": "code",
   "execution_count": null,
   "id": "7bd97f3f-88a2-450a-a81b-d5ce55c1df1b",
   "metadata": {},
   "outputs": [],
   "source": [
    "us_total_trans_value.melt()"
   ]
  },
  {
   "cell_type": "code",
   "execution_count": null,
   "id": "9a4b1aa4-49f9-4b08-a14e-7d6a2af9d0c2",
   "metadata": {},
   "outputs": [],
   "source": [
    "us_sales_count.head()"
   ]
  },
  {
   "cell_type": "code",
   "execution_count": null,
   "id": "ff50be31-b197-47ca-9469-60728f238271",
   "metadata": {},
   "outputs": [],
   "source": [
    "us_median_sale.head()"
   ]
  },
  {
   "cell_type": "code",
   "execution_count": null,
   "id": "44b1308d-defc-4fa0-b811-d5a15be4e6c0",
   "metadata": {},
   "outputs": [],
   "source": [
    "us_market_temp_index.head()"
   ]
  },
  {
   "cell_type": "code",
   "execution_count": null,
   "id": "67336fc5-4296-4710-9a34-2fea661916a1",
   "metadata": {},
   "outputs": [],
   "source": [
    "us_rent_data.head(), us_total_trans_value.head(), us_sales_count.head(), us_median_sale.head(), us_market_temp_index.head()"
   ]
  },
  {
   "cell_type": "code",
   "execution_count": null,
   "id": "101e4778-99b2-4cd7-a1d9-e2fbca28a0fa",
   "metadata": {},
   "outputs": [],
   "source": [
    "us_rent_data.to_csv('us_rent_data.csv')\n",
    "us_total_trans_value.to_csv('us_total_trans_value.csv')\n",
    "us_sales_count.to_csv('us_sales_count.csv') \n",
    "us_median_sale.to_csv('us_median_sale.csv') \n",
    "us_market_temp_index.to_csv('us_market_temp_index.csv')\n",
    "filtered_interest_rate.to_csv('us_filtered_interest_rate.csv')"
   ]
  },
  {
   "cell_type": "code",
   "execution_count": null,
   "id": "1f14ccef-c0f2-4421-bc52-2ab249d8c4bb",
   "metadata": {},
   "outputs": [],
   "source": [
    "us_rent_data_transposed = us_rent_data.drop(['RegionID', 'SizeRank', 'RegionType', 'StateName', 'RegionName'], axis=1, errors='ignore').T\n",
    "us_total_trans_value_transposed = us_total_trans_value.drop(['RegionID',], axis=1, errors='ignore').T\n",
    "us_sales_count_transposed = us_sales_count.drop(['RegionID'], axis=1, errors='ignore').T\n",
    "us_median_sale_transposed = us_median_sale.drop(['RegionID'], axis=1, errors='ignore').T\n",
    "us_market_temp_index_transposed = us_market_temp_index.drop(['RegionID', 'SizeRank', 'RegionType', 'StateName', 'RegionName'], axis=1, errors='ignore').T\n",
    "\n",
    "us_rent_data_transposed.head(), us_total_trans_value_transposed.head(), us_sales_count_transposed.head(), us_median_sale_transposed.head(), us_market_temp_index_transposed.head()"
   ]
  },
  {
   "cell_type": "code",
   "execution_count": null,
   "id": "6cf7c6c6-75fa-47b3-bd31-a74b602c5b00",
   "metadata": {},
   "outputs": [],
   "source": [
    "us_rent_data_transposed.rename(columns={\"RegionID\": \"DATE\", \"102001\": \"Rent Data\"})\n",
    "us_total_trans_value_transposed.rename(columns={\"RegionID\": \"DATE\", \"102001\": \"Total Trans Value\"})\n",
    "us_sales_count_transposed.rename(columns={\"RegionID\": \"DATE\", \"102001\": \"Sales Count\"}) \n",
    "us_median_sale_transposed.rename(columns={\"RegionID\": \"DATE\", \"102001\": \"Median Sale\"})\n",
    "us_market_temp_index_transposed.rename(columns={\"RegionID\": \"DATE\", \"102001\": \"Market Temp Index\"})\n",
    "us_rent_data_transposed.head(), us_total_trans_value_transposed.head(), us_sales_count_transposed.head(), us_median_sale_transposed.head(), us_market_temp_index_transposed.head()"
   ]
  },
  {
   "cell_type": "code",
   "execution_count": null,
   "id": "0699a79b-e6bd-422b-a68a-c252c2fe1734",
   "metadata": {},
   "outputs": [],
   "source": [
    "merged_df = filtered_interest_rate.join([us_rent_data_transposed, us_total_trans_value_transposed, us_sales_count_transposed, us_median_sale_transposed, us_market_temp_index_transposed], how='outer')"
   ]
  },
  {
   "cell_type": "code",
   "execution_count": null,
   "id": "5c524985-a2e3-4783-8aa2-4deab9208957",
   "metadata": {},
   "outputs": [],
   "source": []
  },
  {
   "cell_type": "code",
   "execution_count": null,
   "id": "0cb2007a-5a66-4232-8170-94263b2255a0",
   "metadata": {},
   "outputs": [],
   "source": [
    "# Transpose df2, df3, df4, df5 and df6 so the dates become the index\n",
    "us_rent_data_transposed = us_rent_data.set_index('RegionID').T\n",
    "us_total_trans_value_transposed = us_total_trans_value.set_index('RegionID').T\n",
    "us_sales_count_transposed = us_sales_count.set_index('RegionID').T\n",
    "us_median_sale_transposed = us_median_sale.set_index('RegionID').T\n",
    "us_market_temp_index_transposed = us_market_temp_index.set_index('Month').T\n",
    "us_rent_data_transposed.head(), us_total_trans_value_transposed.head(), us-sales_count_transposed.head(), us_median_sale_transposed.head(), us_market_temp_index_transposed.head()"
   ]
  },
  {
   "cell_type": "code",
   "execution_count": null,
   "id": "3186a3ae-e733-441e-9dfe-d9baa55f9ab8",
   "metadata": {},
   "outputs": [],
   "source": [
    "us_rent_data.reset_index()\n",
    "us_total_trans_value.reset_index()\n",
    "us_sales_count.reset_index() \n",
    "us_median_sale.reset_index()\n",
    "us_market_temp_index.reset_index()\n",
    "filtered_interest_rate.reset_index()"
   ]
  },
  {
   "cell_type": "code",
   "execution_count": null,
   "id": "dd67451c-d071-4969-a1e9-eed9b68886c7",
   "metadata": {},
   "outputs": [],
   "source": [
    "us_rent_data = us_rent_data.copy()\n",
    "us_total_trans_value = us_total_trans_value.copy()\n",
    "us_sales_count = us_sales_count.copy()\n",
    "us_median_sale = us_median_sale.copy()\n",
    "us_market_temp_index = us_market_temp_index.copy()"
   ]
  },
  {
   "cell_type": "code",
   "execution_count": null,
   "id": "ba6a33ed-fe36-487a-87b3-49cdd2c07b0e",
   "metadata": {},
   "outputs": [],
   "source": [
    "us_median_sale.head()"
   ]
  },
  {
   "cell_type": "code",
   "execution_count": null,
   "id": "b8354d1b-5a93-4789-a40b-a7d1b6e21f97",
   "metadata": {},
   "outputs": [],
   "source": [
    "interest_rate.head()"
   ]
  },
  {
   "cell_type": "code",
   "execution_count": null,
   "id": "ac92d7fe-7397-4976-ab7d-0aff8569531f",
   "metadata": {},
   "outputs": [],
   "source": [
    "#filter us median sales data from 2015-01-31':'2024-07-31\n",
    "# us_median_sale = us_median_sale.loc[:, '2015-01-31':'2024-07-31']"
   ]
  },
  {
   "cell_type": "code",
   "execution_count": null,
   "id": "c58e7146-7188-43a0-b398-7f32e4ae9dc0",
   "metadata": {},
   "outputs": [],
   "source": [
    "us_median_sale.head()"
   ]
  },
  {
   "cell_type": "code",
   "execution_count": null,
   "id": "b4df0f51-ac17-41b9-96da-cb4c2008601d",
   "metadata": {},
   "outputs": [],
   "source": [
    "us_rent_data.head()"
   ]
  },
  {
   "cell_type": "code",
   "execution_count": null,
   "id": "6127786e-6fc7-480c-85b0-cbde65f7c5e6",
   "metadata": {},
   "outputs": [],
   "source": [
    "interest_rate.plot()"
   ]
  },
  {
   "cell_type": "code",
   "execution_count": null,
   "id": "91965210-ca34-43dc-af09-95e9af3755c5",
   "metadata": {},
   "outputs": [],
   "source": []
  },
  {
   "cell_type": "code",
   "execution_count": null,
   "id": "aeadbadb-96ef-444a-8043-b87d06ea2054",
   "metadata": {},
   "outputs": [],
   "source": []
  },
  {
   "cell_type": "code",
   "execution_count": null,
   "id": "1467e162-6011-4169-8474-5795f323045a",
   "metadata": {},
   "outputs": [],
   "source": []
  },
  {
   "cell_type": "code",
   "execution_count": null,
   "id": "770b4f88-bd6b-4844-9f83-50b94dcce69c",
   "metadata": {},
   "outputs": [],
   "source": []
  },
  {
   "cell_type": "code",
   "execution_count": null,
   "id": "4a74cb9f-6d9f-449d-97c5-34627ce640b6",
   "metadata": {},
   "outputs": [],
   "source": []
  },
  {
   "cell_type": "code",
   "execution_count": null,
   "id": "e1c3ebad-d45c-42b5-b30c-070c98ba8e1c",
   "metadata": {},
   "outputs": [],
   "source": []
  },
  {
   "cell_type": "code",
   "execution_count": null,
   "id": "a4515d2a-e8a0-4df1-a6de-22c8a844255f",
   "metadata": {},
   "outputs": [],
   "source": []
  },
  {
   "cell_type": "code",
   "execution_count": null,
   "id": "b50272b3-6e12-45b0-9464-778ad5762dd3",
   "metadata": {},
   "outputs": [],
   "source": []
  },
  {
   "cell_type": "code",
   "execution_count": null,
   "id": "aaa05d92-47c8-4e61-be78-9219f66b6f5c",
   "metadata": {},
   "outputs": [],
   "source": [
    "#Cleaning data \n",
    "#Date Range: 2014-2024\n",
    "# Sectionize data for Global in US National data as our Focus\n",
    "# branch out to Regional Data to get more granular picture\n",
    "# possibly sort the data to yearly instead of monthly.\n",
    "#Convert interestrate data from weekly to monthly - filter out data from 2015 to current\n",
    "\n",
    "\n",
    "\n"
   ]
  },
  {
   "cell_type": "code",
   "execution_count": null,
   "id": "1d18a05c-b028-4d20-99e4-55ee6d16c6c2",
   "metadata": {},
   "outputs": [],
   "source": []
  }
 ],
 "metadata": {
  "kernelspec": {
   "display_name": "Python 3 (ipykernel)",
   "language": "python",
   "name": "python3"
  },
  "language_info": {
   "codemirror_mode": {
    "name": "ipython",
    "version": 3
   },
   "file_extension": ".py",
   "mimetype": "text/x-python",
   "name": "python",
   "nbconvert_exporter": "python",
   "pygments_lexer": "ipython3",
   "version": "3.12.2"
  }
 },
 "nbformat": 4,
 "nbformat_minor": 5
}
